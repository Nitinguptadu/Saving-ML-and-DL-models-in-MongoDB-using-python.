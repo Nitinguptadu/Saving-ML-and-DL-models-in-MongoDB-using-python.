{
 "cells": [
  {
   "cell_type": "code",
   "execution_count": 1,
   "metadata": {},
   "outputs": [],
   "source": [
    "from pymongo import MongoClient\n",
    "import pandas as pd\n"
   ]
  },
  {
   "cell_type": "code",
   "execution_count": 2,
   "metadata": {},
   "outputs": [],
   "source": [
    "client = MongoClient('localhost', 27017)\n",
    "db=client.test\n",
    "employee = db.employee\n"
   ]
  },
  {
   "cell_type": "code",
   "execution_count": 3,
   "metadata": {},
   "outputs": [],
   "source": [
    "df = pd.read_excel(\"new.xlsx\") #csv file which you want to import\n"
   ]
  },
  {
   "cell_type": "code",
   "execution_count": 4,
   "metadata": {},
   "outputs": [],
   "source": [
    "records_ = df.to_dict(orient = 'records')\n",
    "result = db.employee.insert_many(records_ )"
   ]
  },
  {
   "cell_type": "code",
   "execution_count": 5,
   "metadata": {},
   "outputs": [
    {
     "name": "stdout",
     "output_type": "stream",
     "text": [
      "[{'target': 0, 'tumor size': 2, 'node status of the tumor': 1, 'Age of the patient': 60, 'tumor grade': 3, '_id': ObjectId('5eac1249e54971e0779b9d6c')}, {'target': 0, 'tumor size': 1, 'node status of the tumor': 1, 'Age of the patient': 55, 'tumor grade': 2, '_id': ObjectId('5eac1249e54971e0779b9d6d')}, {'target': 0, 'tumor size': 1, 'node status of the tumor': 1, 'Age of the patient': 33, 'tumor grade': 3, '_id': ObjectId('5eac1249e54971e0779b9d6e')}]\n"
     ]
    }
   ],
   "source": [
    "print(records_)"
   ]
  },
  {
   "cell_type": "markdown",
   "metadata": {},
   "source": [
    "# Appending new data in same data base "
   ]
  },
  {
   "cell_type": "code",
   "execution_count": 6,
   "metadata": {},
   "outputs": [],
   "source": [
    "client = MongoClient('localhost', 27017)\n",
    "db=client.test\n",
    "employee = db.employee\n"
   ]
  },
  {
   "cell_type": "code",
   "execution_count": 7,
   "metadata": {},
   "outputs": [],
   "source": [
    "df = pd.read_excel(\"ne.xlsx\") #csv file which you want to import\n"
   ]
  },
  {
   "cell_type": "code",
   "execution_count": 8,
   "metadata": {},
   "outputs": [],
   "source": [
    "records_ = df.to_dict(orient = 'records')\n",
    "result = db.employee.insert_many(records_ )"
   ]
  }
 ],
 "metadata": {
  "kernelspec": {
   "display_name": "Python 3",
   "language": "python",
   "name": "python3"
  },
  "language_info": {
   "codemirror_mode": {
    "name": "ipython",
    "version": 3
   },
   "file_extension": ".py",
   "mimetype": "text/x-python",
   "name": "python",
   "nbconvert_exporter": "python",
   "pygments_lexer": "ipython3",
   "version": "3.7.5"
  }
 },
 "nbformat": 4,
 "nbformat_minor": 2
}

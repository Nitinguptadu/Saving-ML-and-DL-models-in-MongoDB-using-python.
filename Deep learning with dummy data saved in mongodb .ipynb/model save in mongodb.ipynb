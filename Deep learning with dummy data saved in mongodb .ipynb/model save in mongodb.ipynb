{
 "cells": [
  {
   "cell_type": "code",
   "execution_count": 1,
   "metadata": {},
   "outputs": [],
   "source": [
    "import pymongo\n",
    "import pandas as pd\n",
    "import numpy as np\n",
    "from sklearn import datasets\n",
    "import pickle\n",
    "import time\n",
    "import pymongo"
   ]
  },
  {
   "cell_type": "code",
   "execution_count": 2,
   "metadata": {},
   "outputs": [],
   "source": [
    "iris = datasets.load_iris()\n",
    "X = iris.data\n",
    "y = iris.target"
   ]
  },
  {
   "cell_type": "code",
   "execution_count": 3,
   "metadata": {},
   "outputs": [],
   "source": [
    "from sklearn.model_selection import train_test_split\n"
   ]
  },
  {
   "cell_type": "code",
   "execution_count": 4,
   "metadata": {},
   "outputs": [],
   "source": [
    "X_train, X_test, y_train, y_test = train_test_split(X, y, test_size=0.33, random_state=42)"
   ]
  },
  {
   "cell_type": "code",
   "execution_count": 5,
   "metadata": {},
   "outputs": [],
   "source": [
    "from xgboost import XGBClassifier\n"
   ]
  },
  {
   "cell_type": "code",
   "execution_count": 6,
   "metadata": {},
   "outputs": [],
   "source": [
    "xgb = XGBClassifier()"
   ]
  },
  {
   "cell_type": "code",
   "execution_count": 7,
   "metadata": {},
   "outputs": [
    {
     "data": {
      "text/plain": [
       "XGBClassifier(base_score=0.5, booster=None, colsample_bylevel=1,\n",
       "              colsample_bynode=1, colsample_bytree=1, gamma=0, gpu_id=-1,\n",
       "              importance_type='gain', interaction_constraints=None,\n",
       "              learning_rate=0.300000012, max_delta_step=0, max_depth=6,\n",
       "              min_child_weight=1, missing=nan, monotone_constraints=None,\n",
       "              n_estimators=100, n_jobs=0, num_parallel_tree=1,\n",
       "              objective='multi:softprob', random_state=0, reg_alpha=0,\n",
       "              reg_lambda=1, scale_pos_weight=None, subsample=1,\n",
       "              tree_method=None, validate_parameters=False, verbosity=None)"
      ]
     },
     "execution_count": 7,
     "metadata": {},
     "output_type": "execute_result"
    }
   ],
   "source": [
    "xgb.fit(X_train, y_train)\n"
   ]
  },
  {
   "cell_type": "code",
   "execution_count": 8,
   "metadata": {},
   "outputs": [],
   "source": [
    "def save_model_to_db(model, client, db, dbconnection, model_name):\n",
    "    import pickle\n",
    "    import time\n",
    "    import pymongo\n",
    "    #pickling the model\n",
    "    pickled_model = pickle.dumps(model)\n",
    "    \n",
    "    #saving model to mongoDB\n",
    "    # creating connection\n",
    "    myclient = pymongo.MongoClient(client)\n",
    "    \n",
    "    #creating database in mongodb\n",
    "    mydb = myclient[db]\n",
    "    \n",
    "    #creating collection\n",
    "    mycon = mydb[dbconnection]\n",
    "    info = mycon.insert_one({model_name: pickled_model, 'name': model_name, 'created_time':time.time()})\n",
    "    print(info.inserted_id, ' saved with this id successfully!')\n",
    "    \n",
    "    details = {\n",
    "        'inserted_id':info.inserted_id,\n",
    "        'model_name':model_name,\n",
    "        'created_time':time.time()\n",
    "    }\n",
    "    \n",
    "    return details"
   ]
  },
  {
   "cell_type": "code",
   "execution_count": 9,
   "metadata": {},
   "outputs": [],
   "source": [
    "def load_saved_model_from_db(model_name, client, db, dbconnection):\n",
    "    json_data = {}\n",
    "    \n",
    "    #saving model to mongoDB\n",
    "    # creating connection\n",
    "    myclient = pymongo.MongoClient(client)\n",
    "    \n",
    "    #creating database in mongodb\n",
    "    mydb = myclient[db]\n",
    "    \n",
    "    #creating collection\n",
    "    mycon = mydb[dbconnection]\n",
    "    data = mycon.find({'name': model_name})\n",
    "    \n",
    "    \n",
    "    for i in data:\n",
    "        json_data = i\n",
    "    #fetching model from db\n",
    "    pickled_model = json_data[model_name]\n",
    "    \n",
    "    return pickle.loads(pickled_model)"
   ]
  },
  {
   "cell_type": "code",
   "execution_count": 10,
   "metadata": {},
   "outputs": [
    {
     "name": "stdout",
     "output_type": "stream",
     "text": [
      "5eaa72fe8f930738ab77a9dd  saved with this id successfully!\n"
     ]
    }
   ],
   "source": [
    "details = save_model_to_db(model = xgb, client ='mongodb://localhost:27017/', db = 'mydatabase', \n",
    "                 dbconnection = 'customers', model_name = 'myxgb')"
   ]
  },
  {
   "cell_type": "code",
   "execution_count": 11,
   "metadata": {},
   "outputs": [],
   "source": [
    "xgb  = load_saved_model_from_db(model_name = details['model_name'], client = 'mongodb://localhost:27017/', \n",
    "                         db = 'mydatabase', dbconnection = 'customers')"
   ]
  },
  {
   "cell_type": "code",
   "execution_count": 12,
   "metadata": {},
   "outputs": [
    {
     "name": "stdout",
     "output_type": "stream",
     "text": [
      "[1 0 2 1 1 0 1 2 1 1 2 0 0 0 0 1 2 1 1 2 0 2 0 2 2 2 2 2 0 0 0 0 1 0 0 2 1\n",
      " 0 0 0 2 1 1 0 0 1 1 2 1 2]\n"
     ]
    }
   ],
   "source": [
    "print(xgb.predict(X_test))"
   ]
  },
  {
   "cell_type": "code",
   "execution_count": null,
   "metadata": {},
   "outputs": [],
   "source": []
  }
 ],
 "metadata": {
  "kernelspec": {
   "display_name": "Python 3",
   "language": "python",
   "name": "python3"
  },
  "language_info": {
   "codemirror_mode": {
    "name": "ipython",
    "version": 3
   },
   "file_extension": ".py",
   "mimetype": "text/x-python",
   "name": "python",
   "nbconvert_exporter": "python",
   "pygments_lexer": "ipython3",
   "version": "3.7.5"
  }
 },
 "nbformat": 4,
 "nbformat_minor": 2
}
